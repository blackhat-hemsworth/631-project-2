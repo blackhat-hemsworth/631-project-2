{
 "cells": [
  {
   "cell_type": "code",
   "execution_count": 1,
   "id": "d800c23b-ca69-468c-9681-dfd39938191f",
   "metadata": {},
   "outputs": [],
   "source": [
    "# Data Preparation and analysis \n",
    "# project 2"
   ]
  },
  {
   "cell_type": "code",
   "execution_count": 1,
   "id": "a02f166c-6b34-4fff-85af-4928aa211149",
   "metadata": {},
   "outputs": [],
   "source": [
    "import pandas as pd\n",
    "import numpy as np\n",
    "import matplotlib.pyplot as plt"
   ]
  },
  {
   "cell_type": "code",
   "execution_count": 32,
   "id": "6344f39d-bb62-4841-a8c8-0b401ee4e847",
   "metadata": {},
   "outputs": [],
   "source": [
    "df = pd.read_csv(\"CAR DETAILS FROM CAR DEKHO.csv\")"
   ]
  },
  {
   "cell_type": "code",
   "execution_count": 77,
   "id": "7be28e9c-769d-48fb-9fc1-00d472d0de77",
   "metadata": {},
   "outputs": [
    {
     "data": {
      "text/html": [
       "<div>\n",
       "<style scoped>\n",
       "    .dataframe tbody tr th:only-of-type {\n",
       "        vertical-align: middle;\n",
       "    }\n",
       "\n",
       "    .dataframe tbody tr th {\n",
       "        vertical-align: top;\n",
       "    }\n",
       "\n",
       "    .dataframe thead th {\n",
       "        text-align: right;\n",
       "    }\n",
       "</style>\n",
       "<table border=\"1\" class=\"dataframe\">\n",
       "  <thead>\n",
       "    <tr style=\"text-align: right;\">\n",
       "      <th></th>\n",
       "      <th>name</th>\n",
       "      <th>year</th>\n",
       "      <th>selling_price</th>\n",
       "      <th>km_driven</th>\n",
       "      <th>fuel</th>\n",
       "      <th>seller_type</th>\n",
       "      <th>transmission</th>\n",
       "      <th>owner</th>\n",
       "      <th>base_model</th>\n",
       "      <th>price_usd</th>\n",
       "    </tr>\n",
       "  </thead>\n",
       "  <tbody>\n",
       "    <tr>\n",
       "      <th>0</th>\n",
       "      <td>Maruti 800 AC</td>\n",
       "      <td>2007</td>\n",
       "      <td>60000</td>\n",
       "      <td>70000</td>\n",
       "      <td>Petrol</td>\n",
       "      <td>Individual</td>\n",
       "      <td>Manual</td>\n",
       "      <td>First Owner</td>\n",
       "      <td>Maruti</td>\n",
       "      <td>720.0</td>\n",
       "    </tr>\n",
       "    <tr>\n",
       "      <th>1</th>\n",
       "      <td>Maruti Wagon R LXI Minor</td>\n",
       "      <td>2007</td>\n",
       "      <td>135000</td>\n",
       "      <td>50000</td>\n",
       "      <td>Petrol</td>\n",
       "      <td>Individual</td>\n",
       "      <td>Manual</td>\n",
       "      <td>First Owner</td>\n",
       "      <td>Maruti</td>\n",
       "      <td>1620.0</td>\n",
       "    </tr>\n",
       "    <tr>\n",
       "      <th>2</th>\n",
       "      <td>Hyundai Verna 1.6 SX</td>\n",
       "      <td>2012</td>\n",
       "      <td>600000</td>\n",
       "      <td>100000</td>\n",
       "      <td>Diesel</td>\n",
       "      <td>Individual</td>\n",
       "      <td>Manual</td>\n",
       "      <td>First Owner</td>\n",
       "      <td>Hyundai</td>\n",
       "      <td>7200.0</td>\n",
       "    </tr>\n",
       "    <tr>\n",
       "      <th>3</th>\n",
       "      <td>Datsun RediGO T Option</td>\n",
       "      <td>2017</td>\n",
       "      <td>250000</td>\n",
       "      <td>46000</td>\n",
       "      <td>Petrol</td>\n",
       "      <td>Individual</td>\n",
       "      <td>Manual</td>\n",
       "      <td>First Owner</td>\n",
       "      <td>Datsun</td>\n",
       "      <td>3000.0</td>\n",
       "    </tr>\n",
       "    <tr>\n",
       "      <th>4</th>\n",
       "      <td>Honda Amaze VX i-DTEC</td>\n",
       "      <td>2014</td>\n",
       "      <td>450000</td>\n",
       "      <td>141000</td>\n",
       "      <td>Diesel</td>\n",
       "      <td>Individual</td>\n",
       "      <td>Manual</td>\n",
       "      <td>Second Owner</td>\n",
       "      <td>Honda</td>\n",
       "      <td>5400.0</td>\n",
       "    </tr>\n",
       "  </tbody>\n",
       "</table>\n",
       "</div>"
      ],
      "text/plain": [
       "                       name  year  selling_price  km_driven    fuel  \\\n",
       "0             Maruti 800 AC  2007          60000      70000  Petrol   \n",
       "1  Maruti Wagon R LXI Minor  2007         135000      50000  Petrol   \n",
       "2      Hyundai Verna 1.6 SX  2012         600000     100000  Diesel   \n",
       "3    Datsun RediGO T Option  2017         250000      46000  Petrol   \n",
       "4     Honda Amaze VX i-DTEC  2014         450000     141000  Diesel   \n",
       "\n",
       "  seller_type transmission         owner base_model  price_usd  \n",
       "0  Individual       Manual   First Owner     Maruti      720.0  \n",
       "1  Individual       Manual   First Owner     Maruti     1620.0  \n",
       "2  Individual       Manual   First Owner    Hyundai     7200.0  \n",
       "3  Individual       Manual   First Owner     Datsun     3000.0  \n",
       "4  Individual       Manual  Second Owner      Honda     5400.0  "
      ]
     },
     "execution_count": 77,
     "metadata": {},
     "output_type": "execute_result"
    }
   ],
   "source": [
    "df.head()"
   ]
  },
  {
   "cell_type": "code",
   "execution_count": 78,
   "id": "50b651bb-6640-4441-8d42-c90c0adea9fc",
   "metadata": {},
   "outputs": [
    {
     "data": {
      "text/plain": [
       "0         720.000\n",
       "1        1620.000\n",
       "2        7200.000\n",
       "3        3000.000\n",
       "4        5400.000\n",
       "          ...    \n",
       "4335     4919.988\n",
       "4336     4919.988\n",
       "4337     1320.000\n",
       "4338    10380.000\n",
       "4339     2700.000\n",
       "Name: price_usd, Length: 4340, dtype: float64"
      ]
     },
     "execution_count": 78,
     "metadata": {},
     "output_type": "execute_result"
    }
   ],
   "source": [
    "df[\"price_usd\"] = df.selling_price.apply(lambda x : x * 0.012) # convert to price in $USD using conversion rate from 9:59 4/4/2024\n",
    "df.price_usd"
   ]
  },
  {
   "cell_type": "code",
   "execution_count": 80,
   "id": "daf54608-6acf-42b0-958f-60c8404e1450",
   "metadata": {},
   "outputs": [
    {
     "data": {
      "text/html": [
       "<div>\n",
       "<style scoped>\n",
       "    .dataframe tbody tr th:only-of-type {\n",
       "        vertical-align: middle;\n",
       "    }\n",
       "\n",
       "    .dataframe tbody tr th {\n",
       "        vertical-align: top;\n",
       "    }\n",
       "\n",
       "    .dataframe thead th {\n",
       "        text-align: right;\n",
       "    }\n",
       "</style>\n",
       "<table border=\"1\" class=\"dataframe\">\n",
       "  <thead>\n",
       "    <tr style=\"text-align: right;\">\n",
       "      <th></th>\n",
       "      <th>year</th>\n",
       "      <th>selling_price</th>\n",
       "      <th>km_driven</th>\n",
       "      <th>price_usd</th>\n",
       "    </tr>\n",
       "  </thead>\n",
       "  <tbody>\n",
       "    <tr>\n",
       "      <th>count</th>\n",
       "      <td>4340.000000</td>\n",
       "      <td>4.340000e+03</td>\n",
       "      <td>4340.000000</td>\n",
       "      <td>4340.000000</td>\n",
       "    </tr>\n",
       "    <tr>\n",
       "      <th>mean</th>\n",
       "      <td>2013.090783</td>\n",
       "      <td>5.041273e+05</td>\n",
       "      <td>66215.777419</td>\n",
       "      <td>6049.527741</td>\n",
       "    </tr>\n",
       "    <tr>\n",
       "      <th>std</th>\n",
       "      <td>4.215344</td>\n",
       "      <td>5.785487e+05</td>\n",
       "      <td>46644.102194</td>\n",
       "      <td>6942.584834</td>\n",
       "    </tr>\n",
       "    <tr>\n",
       "      <th>min</th>\n",
       "      <td>1992.000000</td>\n",
       "      <td>2.000000e+04</td>\n",
       "      <td>1.000000</td>\n",
       "      <td>240.000000</td>\n",
       "    </tr>\n",
       "    <tr>\n",
       "      <th>25%</th>\n",
       "      <td>2011.000000</td>\n",
       "      <td>2.087498e+05</td>\n",
       "      <td>35000.000000</td>\n",
       "      <td>2504.997000</td>\n",
       "    </tr>\n",
       "    <tr>\n",
       "      <th>50%</th>\n",
       "      <td>2014.000000</td>\n",
       "      <td>3.500000e+05</td>\n",
       "      <td>60000.000000</td>\n",
       "      <td>4200.000000</td>\n",
       "    </tr>\n",
       "    <tr>\n",
       "      <th>75%</th>\n",
       "      <td>2016.000000</td>\n",
       "      <td>6.000000e+05</td>\n",
       "      <td>90000.000000</td>\n",
       "      <td>7200.000000</td>\n",
       "    </tr>\n",
       "    <tr>\n",
       "      <th>max</th>\n",
       "      <td>2020.000000</td>\n",
       "      <td>8.900000e+06</td>\n",
       "      <td>806599.000000</td>\n",
       "      <td>106800.000000</td>\n",
       "    </tr>\n",
       "  </tbody>\n",
       "</table>\n",
       "</div>"
      ],
      "text/plain": [
       "              year  selling_price      km_driven      price_usd\n",
       "count  4340.000000   4.340000e+03    4340.000000    4340.000000\n",
       "mean   2013.090783   5.041273e+05   66215.777419    6049.527741\n",
       "std       4.215344   5.785487e+05   46644.102194    6942.584834\n",
       "min    1992.000000   2.000000e+04       1.000000     240.000000\n",
       "25%    2011.000000   2.087498e+05   35000.000000    2504.997000\n",
       "50%    2014.000000   3.500000e+05   60000.000000    4200.000000\n",
       "75%    2016.000000   6.000000e+05   90000.000000    7200.000000\n",
       "max    2020.000000   8.900000e+06  806599.000000  106800.000000"
      ]
     },
     "execution_count": 80,
     "metadata": {},
     "output_type": "execute_result"
    }
   ],
   "source": [
    "df.describe()"
   ]
  },
  {
   "cell_type": "code",
   "execution_count": 85,
   "id": "f965c25e-ae71-471b-b78c-770829a1fa67",
   "metadata": {},
   "outputs": [
    {
     "data": {
      "text/plain": [
       "0        Maruti\n",
       "1        Maruti\n",
       "2       Hyundai\n",
       "3        Datsun\n",
       "4         Honda\n",
       "         ...   \n",
       "4335    Hyundai\n",
       "4336    Hyundai\n",
       "4337     Maruti\n",
       "4338    Hyundai\n",
       "4339    Renault\n",
       "Name: base_model, Length: 4340, dtype: object"
      ]
     },
     "execution_count": 85,
     "metadata": {},
     "output_type": "execute_result"
    }
   ],
   "source": [
    "df[\"base_model\"] = df.name.apply(lambda x : x.split(' ')[0])\n",
    "df['base_model']"
   ]
  },
  {
   "cell_type": "code",
   "execution_count": 86,
   "id": "15cbd8cb-81d5-4184-9177-683aec5daefc",
   "metadata": {},
   "outputs": [
    {
     "data": {
      "text/plain": [
       "(4340, 10)"
      ]
     },
     "execution_count": 86,
     "metadata": {},
     "output_type": "execute_result"
    }
   ],
   "source": [
    "df.shape"
   ]
  },
  {
   "cell_type": "code",
   "execution_count": 87,
   "id": "0bafb76d-a341-479c-bbd1-3fc5748aef22",
   "metadata": {},
   "outputs": [
    {
     "data": {
      "text/plain": [
       "Index(['name', 'year', 'selling_price', 'km_driven', 'fuel', 'seller_type',\n",
       "       'transmission', 'owner', 'base_model', 'price_usd'],\n",
       "      dtype='object')"
      ]
     },
     "execution_count": 87,
     "metadata": {},
     "output_type": "execute_result"
    }
   ],
   "source": [
    "df.columns"
   ]
  },
  {
   "cell_type": "code",
   "execution_count": 88,
   "id": "f7d8f9f1-83ff-4b04-818a-3f5e1302d9a5",
   "metadata": {},
   "outputs": [
    {
     "data": {
      "text/plain": [
       "base_model\n",
       "Maruti           1280\n",
       "Hyundai           821\n",
       "Mahindra          365\n",
       "Tata              361\n",
       "Honda             252\n",
       "Ford              238\n",
       "Toyota            206\n",
       "Chevrolet         188\n",
       "Renault           146\n",
       "Volkswagen        107\n",
       "Skoda              68\n",
       "Nissan             64\n",
       "Audi               60\n",
       "BMW                39\n",
       "Fiat               37\n",
       "Datsun             37\n",
       "Mercedes-Benz      35\n",
       "Jaguar              6\n",
       "Mitsubishi          6\n",
       "Land                5\n",
       "Volvo               4\n",
       "Ambassador          4\n",
       "Jeep                3\n",
       "MG                  2\n",
       "OpelCorsa           2\n",
       "Daewoo              1\n",
       "Force               1\n",
       "Isuzu               1\n",
       "Kia                 1\n",
       "Name: count, dtype: int64"
      ]
     },
     "execution_count": 88,
     "metadata": {},
     "output_type": "execute_result"
    }
   ],
   "source": [
    "df.base_model.value_counts()"
   ]
  },
  {
   "cell_type": "code",
   "execution_count": 89,
   "id": "b09c3e01-01a9-4ff9-b578-7c61f8b6505a",
   "metadata": {},
   "outputs": [
    {
     "data": {
      "text/plain": [
       "<Axes: xlabel='base_model'>"
      ]
     },
     "execution_count": 89,
     "metadata": {},
     "output_type": "execute_result"
    },
    {
     "data": {
      "image/png": "[encoded data removed]",
      "text/plain": [
       "<Figure size 640x480 with 1 Axes>"
      ]
     },
     "metadata": {},
     "output_type": "display_data"
    }
   ],
   "source": [
    "# distribution of values of base model of the car\n",
    "df.base_model.value_counts().plot.bar()"
   ]
  },
  {
   "cell_type": "code",
   "execution_count": 95,
   "id": "2ebda752-d05a-4229-b52c-5ad713534fb7",
   "metadata": {},
   "outputs": [
    {
     "data": {
      "text/plain": [
       "(array([ 25., 155., 211., 227., 218., 168., 248., 255., 173., 244., 122.,\n",
       "        209., 170., 108., 137.,  92., 165., 186.,  44., 137.,  69., 107.,\n",
       "        100.,  41.,  68.,  42.,  70.,  33.,  45.,  39.,  19.,  30.,   7.,\n",
       "         42.,  18.,   4.,  21.,   3.,  17.,  24.,   3.,  15.,   2.,  23.,\n",
       "         10.,   3.,  10.,   1.,   4.,   7.,   8.,   2.,  13.,   3.,   0.,\n",
       "          4.,   8.,   3.,   5.,   2.,   8.,   3.,   1.,   5.,   0.,   2.,\n",
       "          5.,   0.,   2.,   0.,   1.,   1.,   0.,   1.,   0.,   0.,   0.,\n",
       "          2.,   1.,   0.,   1.,   0.,   0.,   5.,   0.,   1.,   2.,  13.,\n",
       "          1.,   2.,   4.,   0.,   4.,   5.,   0.,   0.,   0.,   2.,   0.,\n",
       "          0.,   0.,   0.,   1.,   0.,   3.,   0.,   0.,   3.,   0.,   1.,\n",
       "          0.,   0.,   0.,   0.,   0.,   0.,   0.,   2.,   0.,   0.,   0.,\n",
       "          0.,   0.,   0.,   0.,   0.,   0.,  11.,   0.,   0.,   0.,   2.,\n",
       "          0.,   0.,   3.,   0.,   0.,   0.,   0.,   0.,   0.,   1.,   0.,\n",
       "          0.,   0.,   0.,   0.,   2.,   0.,   0.,   0.,   3.,   0.,   0.,\n",
       "          0.,   0.,   0.,   0.,   1.,   0.,   0.,   2.,   0.,   0.,   0.,\n",
       "          0.,  11.,   0.,   0.,   0.,   0.,   0.,   0.,   0.,   0.,   0.,\n",
       "          0.,   0.,   0.,   0.,   0.,   0.,   0.,   0.,   0.,   1.,   0.,\n",
       "          0.,   0.,   0.,   0.,   0.,   0.,   0.,   0.,   0.,   0.,   0.,\n",
       "          0.,   0.,   0.,   0.,   0.,   0.,   0.,   0.,   0.,   0.,   0.,\n",
       "          0.,   0.,   0.,   0.,   0.,   0.,   0.,   0.,   0.,   0.,   0.,\n",
       "          0.,   0.,   0.,   0.,   0.,   0.,   0.,   0.,   0.,   0.,   0.,\n",
       "          0.,   0.,   0.,   0.,   0.,   0.,   0.,   0.,   0.,   0.,   0.,\n",
       "          0.,   0.,   0.,   0.,   0.,   0.,   0.,   0.,   0.,   0.,   0.,\n",
       "          0.,   0.,   0.,   0.,   0.,   0.,   0.,   0.,   0.,   0.,   0.,\n",
       "          0.,   0.,   0.,   0.,   0.,   0.,   0.,   0.,   0.,   0.,   1.,\n",
       "          0.,   0.,   0.,   0.,   0.,   0.,   0.,   0.,   0.,   0.,   0.,\n",
       "          0.,   0.,   0.,   0.,   0.,   0.,   0.,   0.,   0.,   0.,   0.,\n",
       "          0.,   0.,   1.]),\n",
       " array([   240. ,    595.2,    950.4,   1305.6,   1660.8,   2016. ,\n",
       "          2371.2,   2726.4,   3081.6,   3436.8,   3792. ,   4147.2,\n",
       "          4502.4,   4857.6,   5212.8,   5568. ,   5923.2,   6278.4,\n",
       "          6633.6,   6988.8,   7344. ,   7699.2,   8054.4,   8409.6,\n",
       "          8764.8,   9120. ,   9475.2,   9830.4,  10185.6,  10540.8,\n",
       "         10896. ,  11251.2,  11606.4,  11961.6,  12316.8,  12672. ,\n",
       "         13027.2,  13382.4,  13737.6,  14092.8,  14448. ,  14803.2,\n",
       "         15158.4,  15513.6,  15868.8,  16224. ,  16579.2,  16934.4,\n",
       "         17289.6,  17644.8,  18000. ,  18355.2,  18710.4,  19065.6,\n",
       "         19420.8,  19776. ,  20131.2,  20486.4,  20841.6,  21196.8,\n",
       "         21552. ,  21907.2,  22262.4,  22617.6,  22972.8,  23328. ,\n",
       "         23683.2,  24038.4,  24393.6,  24748.8,  25104. ,  25459.2,\n",
       "         25814.4,  26169.6,  26524.8,  26880. ,  27235.2,  27590.4,\n",
       "         27945.6,  28300.8,  28656. ,  29011.2,  29366.4,  29721.6,\n",
       "         30076.8,  30432. ,  30787.2,  31142.4,  31497.6,  31852.8,\n",
       "         32208. ,  32563.2,  32918.4,  33273.6,  33628.8,  33984. ,\n",
       "         34339.2,  34694.4,  35049.6,  35404.8,  35760. ,  36115.2,\n",
       "         36470.4,  36825.6,  37180.8,  37536. ,  37891.2,  38246.4,\n",
       "         38601.6,  38956.8,  39312. ,  39667.2,  40022.4,  40377.6,\n",
       "         40732.8,  41088. ,  41443.2,  41798.4,  42153.6,  42508.8,\n",
       "         42864. ,  43219.2,  43574.4,  43929.6,  44284.8,  44640. ,\n",
       "         44995.2,  45350.4,  45705.6,  46060.8,  46416. ,  46771.2,\n",
       "         47126.4,  47481.6,  47836.8,  48192. ,  48547.2,  48902.4,\n",
       "         49257.6,  49612.8,  49968. ,  50323.2,  50678.4,  51033.6,\n",
       "         51388.8,  51744. ,  52099.2,  52454.4,  52809.6,  53164.8,\n",
       "         53520. ,  53875.2,  54230.4,  54585.6,  54940.8,  55296. ,\n",
       "         55651.2,  56006.4,  56361.6,  56716.8,  57072. ,  57427.2,\n",
       "         57782.4,  58137.6,  58492.8,  58848. ,  59203.2,  59558.4,\n",
       "         59913.6,  60268.8,  60624. ,  60979.2,  61334.4,  61689.6,\n",
       "         62044.8,  62400. ,  62755.2,  63110.4,  63465.6,  63820.8,\n",
       "         64176. ,  64531.2,  64886.4,  65241.6,  65596.8,  65952. ,\n",
       "         66307.2,  66662.4,  67017.6,  67372.8,  67728. ,  68083.2,\n",
       "         68438.4,  68793.6,  69148.8,  69504. ,  69859.2,  70214.4,\n",
       "         70569.6,  70924.8,  71280. ,  71635.2,  71990.4,  72345.6,\n",
       "         72700.8,  73056. ,  73411.2,  73766.4,  74121.6,  74476.8,\n",
       "         74832. ,  75187.2,  75542.4,  75897.6,  76252.8,  76608. ,\n",
       "         76963.2,  77318.4,  77673.6,  78028.8,  78384. ,  78739.2,\n",
       "         79094.4,  79449.6,  79804.8,  80160. ,  80515.2,  80870.4,\n",
       "         81225.6,  81580.8,  81936. ,  82291.2,  82646.4,  83001.6,\n",
       "         83356.8,  83712. ,  84067.2,  84422.4,  84777.6,  85132.8,\n",
       "         85488. ,  85843.2,  86198.4,  86553.6,  86908.8,  87264. ,\n",
       "         87619.2,  87974.4,  88329.6,  88684.8,  89040. ,  89395.2,\n",
       "         89750.4,  90105.6,  90460.8,  90816. ,  91171.2,  91526.4,\n",
       "         91881.6,  92236.8,  92592. ,  92947.2,  93302.4,  93657.6,\n",
       "         94012.8,  94368. ,  94723.2,  95078.4,  95433.6,  95788.8,\n",
       "         96144. ,  96499.2,  96854.4,  97209.6,  97564.8,  97920. ,\n",
       "         98275.2,  98630.4,  98985.6,  99340.8,  99696. , 100051.2,\n",
       "        100406.4, 100761.6, 101116.8, 101472. , 101827.2, 102182.4,\n",
       "        102537.6, 102892.8, 103248. , 103603.2, 103958.4, 104313.6,\n",
       "        104668.8, 105024. , 105379.2, 105734.4, 106089.6, 106444.8,\n",
       "        106800. ]),\n",
       " <BarContainer object of 300 artists>)"
      ]
     },
     "execution_count": 95,
     "metadata": {},
     "output_type": "execute_result"
    },
    {
     "data": {
      "image/png": "[encoded data removed]",
      "text/plain": [
       "<Figure size 640x480 with 1 Axes>"
      ]
     },
     "metadata": {},
     "output_type": "display_data"
    }
   ],
   "source": [
    "plt.ticklabel_format(style='plain')\n",
    "plt.hist(df.price_usd, bins=300)\n",
    "# you can see in this histogram that the distribution scews to the left. "
   ]
  },
  {
   "cell_type": "code",
   "execution_count": 91,
   "id": "5758651c-1564-4702-979d-45f2bf9879a8",
   "metadata": {},
   "outputs": [
    {
     "data": {
      "text/plain": [
       "price_usd\n",
       "3600.000     162\n",
       "3000.000     125\n",
       "4200.000     122\n",
       "6600.000     107\n",
       "7200.000     103\n",
       "            ... \n",
       "25200.000      1\n",
       "9947.988       1\n",
       "13428.000      1\n",
       "8952.000       1\n",
       "10380.000      1\n",
       "Name: count, Length: 445, dtype: int64"
      ]
     },
     "execution_count": 91,
     "metadata": {},
     "output_type": "execute_result"
    }
   ],
   "source": [
    "df.price_usd.value_counts()"
   ]
  },
  {
   "cell_type": "code",
   "execution_count": 92,
   "id": "93ccb1c9-0987-4d38-9688-89391f6e4a4e",
   "metadata": {},
   "outputs": [
    {
     "data": {
      "text/plain": [
       "6049.527741013825"
      ]
     },
     "execution_count": 92,
     "metadata": {},
     "output_type": "execute_result"
    }
   ],
   "source": [
    "# price usd average\n",
    "df.price_usd.mean()"
   ]
  },
  {
   "cell_type": "code",
   "execution_count": 93,
   "id": "cbfa0674-e397-43ba-98a2-1c4386fd5e2d",
   "metadata": {},
   "outputs": [
    {
     "data": {
      "text/plain": [
       "4200.0"
      ]
     },
     "execution_count": 93,
     "metadata": {},
     "output_type": "execute_result"
    }
   ],
   "source": [
    "# price usd center\n",
    "df.price_usd.median()"
   ]
  },
  {
   "cell_type": "code",
   "execution_count": 94,
   "id": "20e2e440-52e0-4f97-a9b1-4b78600f0b17",
   "metadata": {},
   "outputs": [
    {
     "data": {
      "text/plain": [
       "0    3600.0\n",
       "Name: price_usd, dtype: float64"
      ]
     },
     "execution_count": 94,
     "metadata": {},
     "output_type": "execute_result"
    }
   ],
   "source": [
    "# price usd most frequent\n",
    "df.price_usd.mode()"
   ]
  },
  {
   "cell_type": "code",
   "execution_count": 96,
   "id": "64d37560-0095-4652-b364-116da83d2f44",
   "metadata": {},
   "outputs": [
    {
     "data": {
      "text/plain": [
       "106800.0"
      ]
     },
     "execution_count": 96,
     "metadata": {},
     "output_type": "execute_result"
    }
   ],
   "source": [
    "# highest value\n",
    "df.price_usd.max()"
   ]
  },
  {
   "cell_type": "code",
   "execution_count": 97,
   "id": "35f7f08e-c015-4d30-b959-402f00e22c87",
   "metadata": {},
   "outputs": [
    {
     "data": {
      "text/plain": [
       "240.0"
      ]
     },
     "execution_count": 97,
     "metadata": {},
     "output_type": "execute_result"
    }
   ],
   "source": [
    "# lowest value\n",
    "df.price_usd.min()"
   ]
  }
 ],
 "metadata": {
  "kernelspec": {
   "display_name": "Python 3 (ipykernel)",
   "language": "python",
   "name": "python3"
  },
  "language_info": {
   "codemirror_mode": {
    "name": "ipython",
    "version": 3
   },
   "file_extension": ".py",
   "mimetype": "text/x-python",
   "name": "python",
   "nbconvert_exporter": "python",
   "pygments_lexer": "ipython3",
   "version": "3.10.11"
  }
 },
 "nbformat": 4,
 "nbformat_minor": 5
}
